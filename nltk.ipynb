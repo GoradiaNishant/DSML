{
  "nbformat": 4,
  "nbformat_minor": 0,
  "metadata": {
    "colab": {
      "name": "nltk.ipynb",
      "provenance": [],
      "authorship_tag": "ABX9TyNI9inmJZMNNnN8a/UhJriA",
      "include_colab_link": true
    },
    "kernelspec": {
      "name": "python3",
      "display_name": "Python 3"
    },
    "language_info": {
      "name": "python"
    }
  },
  "cells": [
    {
      "cell_type": "markdown",
      "metadata": {
        "id": "view-in-github",
        "colab_type": "text"
      },
      "source": [
        "<a href=\"https://colab.research.google.com/github/GoradiaNishant/DSML/blob/main/nltk.ipynb\" target=\"_parent\"><img src=\"https://colab.research.google.com/assets/colab-badge.svg\" alt=\"Open In Colab\"/></a>"
      ]
    },
    {
      "cell_type": "markdown",
      "metadata": {
        "id": "0_cfmqr_n9Hp"
      },
      "source": [
        "##NLTK"
      ]
    },
    {
      "cell_type": "code",
      "metadata": {
        "colab": {
          "base_uri": "https://localhost:8080/"
        },
        "id": "hxzU64DcnC84",
        "outputId": "e4d91877-b906-48e5-914e-df988c6e63dd"
      },
      "source": [
        "#### Reading the dataset\n",
        "\n",
        "#csv, tsv\n",
        "#### Data Pre-processing - Data Cleaning\n",
        "import pandas as pd\n",
        "import re\n",
        "import nltk\n",
        "from nltk.stem.porter import PorterStemmer\n",
        "nltk.download('stopwords')\n",
        "from nltk.corpus import stopwords\n",
        "\n",
        "dataset = pd.read_csv('/content/Restaurant_Reviews.tsv',delimiter='\\t', quoting=3)\n",
        "review1 = re.sub('[^a-zA-Z]',' ', dataset['Review'][0])\n",
        "review1 = review1.lower()\n",
        "review1 = review1.split()\n",
        "\n",
        "ps = PorterStemmer()\n",
        "\n",
        "review1 = [ps.stem(word) for word in review1 if not word in set(stopwords.words('english'))]\n",
        "review1 = ' '.join(review1)\n",
        "\n",
        "### Read dataset\n",
        "### Data Cleaning - re\n",
        "### lowercase -\n",
        "### split\n",
        "### stopwords\n",
        "### PorterStemmer\n",
        "### countVectorizer - Sparse matrix - Bag of Word Model\n",
        "### classification - ML\n",
        "\n",
        "new_dataset = []\n",
        "for i in range(0,1000):\n",
        "    review = re.sub('[^a-zA-Z]',' ', dataset['Review'][i])\n",
        "    review = review.lower()\n",
        "    review = review.split()\n",
        "    ps = PorterStemmer()\n",
        "    review = [ps.stem(word) for word in review if not word in set(stopwords.words('english'))]\n",
        "    review = ' '.join(review)\n",
        "    new_dataset.append(review)\n",
        "    \n",
        "\n",
        "\n",
        "####  Name related dataset - >95000\n",
        "\n",
        "from sklearn.feature_extraction.text import CountVectorizer\n",
        "cv = CountVectorizer(max_features=1500)\n",
        "x = cv.fit_transform(new_dataset).toarray()\n",
        "\n",
        "\n",
        "y = dataset.iloc[:,1].values\n",
        "\n",
        "from sklearn.model_selection import train_test_split\n",
        "\n",
        "x_train,x_test,y_train,y_test= train_test_split(x,y,test_size=0.2,random_state=0)\n",
        "\n",
        "\n",
        "\n",
        "from sklearn.naive_bayes import GaussianNB\n",
        "\n",
        "model = GaussianNB()\n",
        "\n",
        "model.fit(x_train,y_train)\n",
        "y_pred = model.predict(x_test)\n",
        "\n",
        "\n",
        "#### 1500 - 3 words - 3 non zero values - 1497 zero\n",
        "\n",
        "### To hold only non zero values - we can take help of variation of \n",
        "### original sparse matrix\n",
        "\n",
        "### CSR matrix - Compressed sparse Row\n",
        "\n",
        "import numpy as np\n",
        "from scipy.sparse import csr_matrix\n",
        "arr = np.array([[0,0,0],\n",
        "                [8,0,0],\n",
        "                [0,5,4],\n",
        "                [0,0,0],\n",
        "                [0,0,7]])\n",
        "\n",
        "demo = csr_matrix(arr)\n",
        "\n",
        "print(demo.data)\n",
        "print(demo.indices)\n",
        "print(demo.indptr)\n",
        "\n",
        "\n",
        "# 100 * 100 = 10000\n",
        "# 50 - non zero - data\n",
        "# 50 - indices\n",
        "# 100+1 = 101 - indptr\n",
        "# total - 201\n",
        "\n",
        "# [8 5 4 7] - data\n",
        "# [0 1 2 2] - indices / column\n",
        "# [0 0 1 3 3 4] - indptr - n rows - n+1 values - \n",
        "# ## for ith row - find difference between i and i+1\n"
      ],
      "execution_count": null,
      "outputs": [
        {
          "output_type": "stream",
          "text": [
            "[nltk_data] Downloading package stopwords to /root/nltk_data...\n",
            "[nltk_data]   Package stopwords is already up-to-date!\n",
            "[8 5 4 7]\n",
            "[0 1 2 2]\n",
            "[0 0 1 3 3 4]\n"
          ],
          "name": "stdout"
        }
      ]
    },
    {
      "cell_type": "code",
      "metadata": {
        "id": "Wnr2zPdknrGK"
      },
      "source": [
        ""
      ],
      "execution_count": null,
      "outputs": []
    }
  ]
}